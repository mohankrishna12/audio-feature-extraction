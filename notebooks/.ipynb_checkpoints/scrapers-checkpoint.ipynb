{
 "cells": [
  {
   "cell_type": "markdown",
   "metadata": {},
   "source": [
    "# Data Collection"
   ]
  },
  {
   "cell_type": "markdown",
   "metadata": {},
   "source": [
    "## Scraping from YouTube"
   ]
  },
  {
   "cell_type": "code",
   "execution_count": 12,
   "metadata": {},
   "outputs": [],
   "source": [
    "from pytube import YouTube\n",
    "yt = YouTube('https://www.youtube.com/watch?v=U5fX9tbA_Tg')"
   ]
  },
  {
   "cell_type": "code",
   "execution_count": 15,
   "metadata": {},
   "outputs": [
    {
     "name": "stdout",
     "output_type": "stream",
     "text": [
      "Live from Space: James Zooms w/ NASA Astronauts\n",
      "https://i.ytimg.com/vi/U5fX9tbA_Tg/maxresdefault.jpg\n"
     ]
    }
   ],
   "source": [
    "print(yt.title)\n",
    "print(yt.thumbnail_url)"
   ]
  },
  {
   "cell_type": "code",
   "execution_count": 16,
   "metadata": {},
   "outputs": [
    {
     "data": {
      "text/plain": [
       "[<Stream: itag=\"18\" mime_type=\"video/mp4\" res=\"360p\" fps=\"30fps\" vcodec=\"avc1.42001E\" acodec=\"mp4a.40.2\" progressive=\"True\" type=\"video\">,\n",
       " <Stream: itag=\"22\" mime_type=\"video/mp4\" res=\"720p\" fps=\"30fps\" vcodec=\"avc1.64001F\" acodec=\"mp4a.40.2\" progressive=\"True\" type=\"video\">,\n",
       " <Stream: itag=\"137\" mime_type=\"video/mp4\" res=\"1080p\" fps=\"30fps\" vcodec=\"avc1.640028\" progressive=\"False\" type=\"video\">,\n",
       " <Stream: itag=\"248\" mime_type=\"video/webm\" res=\"1080p\" fps=\"30fps\" vcodec=\"vp9\" progressive=\"False\" type=\"video\">,\n",
       " <Stream: itag=\"399\" mime_type=\"video/mp4\" res=\"None\" fps=\"30fps\" vcodec=\"av01.0.08M.08\" progressive=\"False\" type=\"video\">,\n",
       " <Stream: itag=\"136\" mime_type=\"video/mp4\" res=\"720p\" fps=\"30fps\" vcodec=\"avc1.4d401f\" progressive=\"False\" type=\"video\">,\n",
       " <Stream: itag=\"247\" mime_type=\"video/webm\" res=\"720p\" fps=\"30fps\" vcodec=\"vp9\" progressive=\"False\" type=\"video\">,\n",
       " <Stream: itag=\"398\" mime_type=\"video/mp4\" res=\"None\" fps=\"30fps\" vcodec=\"av01.0.05M.08\" progressive=\"False\" type=\"video\">,\n",
       " <Stream: itag=\"135\" mime_type=\"video/mp4\" res=\"480p\" fps=\"30fps\" vcodec=\"avc1.4d401f\" progressive=\"False\" type=\"video\">,\n",
       " <Stream: itag=\"244\" mime_type=\"video/webm\" res=\"480p\" fps=\"30fps\" vcodec=\"vp9\" progressive=\"False\" type=\"video\">,\n",
       " <Stream: itag=\"397\" mime_type=\"video/mp4\" res=\"None\" fps=\"30fps\" vcodec=\"av01.0.04M.08\" progressive=\"False\" type=\"video\">,\n",
       " <Stream: itag=\"134\" mime_type=\"video/mp4\" res=\"360p\" fps=\"30fps\" vcodec=\"avc1.4d401e\" progressive=\"False\" type=\"video\">,\n",
       " <Stream: itag=\"243\" mime_type=\"video/webm\" res=\"360p\" fps=\"30fps\" vcodec=\"vp9\" progressive=\"False\" type=\"video\">,\n",
       " <Stream: itag=\"396\" mime_type=\"video/mp4\" res=\"None\" fps=\"30fps\" vcodec=\"av01.0.01M.08\" progressive=\"False\" type=\"video\">,\n",
       " <Stream: itag=\"133\" mime_type=\"video/mp4\" res=\"240p\" fps=\"30fps\" vcodec=\"avc1.4d4015\" progressive=\"False\" type=\"video\">,\n",
       " <Stream: itag=\"242\" mime_type=\"video/webm\" res=\"240p\" fps=\"30fps\" vcodec=\"vp9\" progressive=\"False\" type=\"video\">,\n",
       " <Stream: itag=\"395\" mime_type=\"video/mp4\" res=\"None\" fps=\"30fps\" vcodec=\"av01.0.00M.08\" progressive=\"False\" type=\"video\">,\n",
       " <Stream: itag=\"160\" mime_type=\"video/mp4\" res=\"144p\" fps=\"30fps\" vcodec=\"avc1.4d400c\" progressive=\"False\" type=\"video\">,\n",
       " <Stream: itag=\"278\" mime_type=\"video/webm\" res=\"144p\" fps=\"30fps\" vcodec=\"vp9\" progressive=\"False\" type=\"video\">,\n",
       " <Stream: itag=\"394\" mime_type=\"video/mp4\" res=\"None\" fps=\"30fps\" vcodec=\"av01.0.00M.08\" progressive=\"False\" type=\"video\">,\n",
       " <Stream: itag=\"140\" mime_type=\"audio/mp4\" abr=\"128kbps\" acodec=\"mp4a.40.2\" progressive=\"False\" type=\"audio\">,\n",
       " <Stream: itag=\"249\" mime_type=\"audio/webm\" abr=\"50kbps\" acodec=\"opus\" progressive=\"False\" type=\"audio\">,\n",
       " <Stream: itag=\"250\" mime_type=\"audio/webm\" abr=\"70kbps\" acodec=\"opus\" progressive=\"False\" type=\"audio\">,\n",
       " <Stream: itag=\"251\" mime_type=\"audio/webm\" abr=\"160kbps\" acodec=\"opus\" progressive=\"False\" type=\"audio\">]"
      ]
     },
     "execution_count": 16,
     "metadata": {},
     "output_type": "execute_result"
    }
   ],
   "source": [
    "# streams available to download\n",
    "yt.streams.all()"
   ]
  },
  {
   "cell_type": "code",
   "execution_count": 34,
   "metadata": {},
   "outputs": [
    {
     "data": {
      "text/html": [
       "<div>\n",
       "<style scoped>\n",
       "    .dataframe tbody tr th:only-of-type {\n",
       "        vertical-align: middle;\n",
       "    }\n",
       "\n",
       "    .dataframe tbody tr th {\n",
       "        vertical-align: top;\n",
       "    }\n",
       "\n",
       "    .dataframe thead th {\n",
       "        text-align: right;\n",
       "    }\n",
       "</style>\n",
       "<table border=\"1\" class=\"dataframe\">\n",
       "  <thead>\n",
       "    <tr style=\"text-align: right;\">\n",
       "      <th></th>\n",
       "      <th>Genre</th>\n",
       "      <th>Show</th>\n",
       "      <th>Title</th>\n",
       "      <th>Description</th>\n",
       "      <th>link</th>\n",
       "      <th>start</th>\n",
       "      <th>end</th>\n",
       "      <th>class</th>\n",
       "      <th>split_length</th>\n",
       "      <th>Comments</th>\n",
       "      <th>length</th>\n",
       "    </tr>\n",
       "  </thead>\n",
       "  <tbody>\n",
       "    <tr>\n",
       "      <th>0</th>\n",
       "      <td>News</td>\n",
       "      <td>Last Week Tonight with John Oliver</td>\n",
       "      <td>Coronavirus VIII: Prisons &amp; Jails (HBO)</td>\n",
       "      <td>Oliver talking to camera about COVID-19</td>\n",
       "      <td>https://youtu.be/MuxnH0VAkAM</td>\n",
       "      <td>0:00</td>\n",
       "      <td>1:44</td>\n",
       "      <td>organic</td>\n",
       "      <td>5</td>\n",
       "      <td>NaN</td>\n",
       "      <td>1:44</td>\n",
       "    </tr>\n",
       "    <tr>\n",
       "      <th>1</th>\n",
       "      <td>NaN</td>\n",
       "      <td>NaN</td>\n",
       "      <td>NaN</td>\n",
       "      <td>CBS news feed on COVID-19 replay</td>\n",
       "      <td>NaN</td>\n",
       "      <td>1:45</td>\n",
       "      <td>2:09</td>\n",
       "      <td>electronic</td>\n",
       "      <td>5</td>\n",
       "      <td>NaN</td>\n",
       "      <td>0:24</td>\n",
       "    </tr>\n",
       "    <tr>\n",
       "      <th>2</th>\n",
       "      <td>NaN</td>\n",
       "      <td>NaN</td>\n",
       "      <td>NaN</td>\n",
       "      <td>Oliver talking to camera about prison congestion</td>\n",
       "      <td>NaN</td>\n",
       "      <td>2:13</td>\n",
       "      <td>3:04</td>\n",
       "      <td>organic</td>\n",
       "      <td>5</td>\n",
       "      <td>NaN</td>\n",
       "      <td>0:51</td>\n",
       "    </tr>\n",
       "    <tr>\n",
       "      <th>3</th>\n",
       "      <td>NaN</td>\n",
       "      <td>NaN</td>\n",
       "      <td>NaN</td>\n",
       "      <td>CBS 2018 on small prison cells replay</td>\n",
       "      <td>NaN</td>\n",
       "      <td>3:05</td>\n",
       "      <td>3:20</td>\n",
       "      <td>electronic</td>\n",
       "      <td>5</td>\n",
       "      <td>NaN</td>\n",
       "      <td>0:15</td>\n",
       "    </tr>\n",
       "    <tr>\n",
       "      <th>4</th>\n",
       "      <td>NaN</td>\n",
       "      <td>NaN</td>\n",
       "      <td>NaN</td>\n",
       "      <td>Oliver talking to camera about difficulty in s...</td>\n",
       "      <td>NaN</td>\n",
       "      <td>3:21</td>\n",
       "      <td>3:50</td>\n",
       "      <td>organic</td>\n",
       "      <td>5</td>\n",
       "      <td>NaN</td>\n",
       "      <td>0:29</td>\n",
       "    </tr>\n",
       "  </tbody>\n",
       "</table>\n",
       "</div>"
      ],
      "text/plain": [
       "  Genre                                Show  \\\n",
       "0  News  Last Week Tonight with John Oliver   \n",
       "1   NaN                                 NaN   \n",
       "2   NaN                                 NaN   \n",
       "3   NaN                                 NaN   \n",
       "4   NaN                                 NaN   \n",
       "\n",
       "                                     Title  \\\n",
       "0  Coronavirus VIII: Prisons & Jails (HBO)   \n",
       "1                                      NaN   \n",
       "2                                      NaN   \n",
       "3                                      NaN   \n",
       "4                                      NaN   \n",
       "\n",
       "                                         Description  \\\n",
       "0            Oliver talking to camera about COVID-19   \n",
       "1                   CBS news feed on COVID-19 replay   \n",
       "2   Oliver talking to camera about prison congestion   \n",
       "3              CBS 2018 on small prison cells replay   \n",
       "4  Oliver talking to camera about difficulty in s...   \n",
       "\n",
       "                           link start   end       class  split_length  \\\n",
       "0  https://youtu.be/MuxnH0VAkAM  0:00  1:44     organic             5   \n",
       "1                           NaN  1:45  2:09  electronic             5   \n",
       "2                           NaN  2:13  3:04     organic             5   \n",
       "3                           NaN  3:05  3:20  electronic             5   \n",
       "4                           NaN  3:21  3:50     organic             5   \n",
       "\n",
       "  Comments length  \n",
       "0      NaN   1:44  \n",
       "1      NaN   0:24  \n",
       "2      NaN   0:51  \n",
       "3      NaN   0:15  \n",
       "4      NaN   0:29  "
      ]
     },
     "execution_count": 34,
     "metadata": {},
     "output_type": "execute_result"
    }
   ],
   "source": [
    "import pandas as pd\n",
    "videos = pd.read_csv('youtube_videos.csv')\n",
    "videos.head()"
   ]
  },
  {
   "cell_type": "code",
   "execution_count": 40,
   "metadata": {},
   "outputs": [
    {
     "name": "stdout",
     "output_type": "stream",
     "text": [
      "LINK: https://youtu.be/MuxnH0VAkAM\n",
      "parsing video https://youtu.be/MuxnH0VAkAM\n",
      "video downloaded to C:\\Users\\rramn\\Documents\\GitHub Repos\\audio-feature-extraction\\notebooks\\youtube\\LastWeekTonightWithJohnOliver-0.mp4\n"
     ]
    },
    {
     "ename": "FileNotFoundError",
     "evalue": "[WinError 2] The system cannot find the file specified",
     "output_type": "error",
     "traceback": [
      "\u001b[1;31m---------------------------------------------------------------------------\u001b[0m",
      "\u001b[1;31mFileNotFoundError\u001b[0m                         Traceback (most recent call last)",
      "\u001b[1;32m<ipython-input-40-7faeb2f0f627>\u001b[0m in \u001b[0;36m<module>\u001b[1;34m\u001b[0m\n\u001b[0;32m     55\u001b[0m         \u001b[1;31m# lossless conversion of mp4 to wav\u001b[0m\u001b[1;33m\u001b[0m\u001b[1;33m\u001b[0m\u001b[1;33m\u001b[0m\u001b[0m\n\u001b[0;32m     56\u001b[0m         \u001b[0mdst\u001b[0m \u001b[1;33m=\u001b[0m \u001b[0mdst_folder\u001b[0m \u001b[1;33m+\u001b[0m \u001b[0mpath_leaf\u001b[0m\u001b[1;33m(\u001b[0m\u001b[0msrc\u001b[0m\u001b[1;33m)\u001b[0m \u001b[1;33m+\u001b[0m \u001b[1;34m'.wav'\u001b[0m\u001b[1;33m\u001b[0m\u001b[1;33m\u001b[0m\u001b[0m\n\u001b[1;32m---> 57\u001b[1;33m         \u001b[0msound\u001b[0m \u001b[1;33m=\u001b[0m \u001b[0mAudioSegment\u001b[0m\u001b[1;33m.\u001b[0m\u001b[0mfrom_file\u001b[0m\u001b[1;33m(\u001b[0m\u001b[0msrc\u001b[0m\u001b[1;33m)\u001b[0m\u001b[1;33m\u001b[0m\u001b[1;33m\u001b[0m\u001b[0m\n\u001b[0m\u001b[0;32m     58\u001b[0m         \u001b[0msound\u001b[0m\u001b[1;33m.\u001b[0m\u001b[0mexport\u001b[0m\u001b[1;33m(\u001b[0m\u001b[0mdst\u001b[0m\u001b[1;33m,\u001b[0m \u001b[0mformat\u001b[0m\u001b[1;33m=\u001b[0m\u001b[1;34m\"wav\"\u001b[0m\u001b[1;33m)\u001b[0m\u001b[1;33m\u001b[0m\u001b[1;33m\u001b[0m\u001b[0m\n\u001b[0;32m     59\u001b[0m \u001b[1;33m\u001b[0m\u001b[0m\n",
      "\u001b[1;32mc:\\users\\rramn\\appdata\\local\\programs\\python\\python38-32\\lib\\site-packages\\pydub\\audio_segment.py\u001b[0m in \u001b[0;36mfrom_file\u001b[1;34m(cls, file, format, codec, parameters, **kwargs)\u001b[0m\n\u001b[0;32m    683\u001b[0m             \u001b[0minfo\u001b[0m \u001b[1;33m=\u001b[0m \u001b[1;32mNone\u001b[0m\u001b[1;33m\u001b[0m\u001b[1;33m\u001b[0m\u001b[0m\n\u001b[0;32m    684\u001b[0m         \u001b[1;32melse\u001b[0m\u001b[1;33m:\u001b[0m\u001b[1;33m\u001b[0m\u001b[1;33m\u001b[0m\u001b[0m\n\u001b[1;32m--> 685\u001b[1;33m             \u001b[0minfo\u001b[0m \u001b[1;33m=\u001b[0m \u001b[0mmediainfo_json\u001b[0m\u001b[1;33m(\u001b[0m\u001b[0morig_file\u001b[0m\u001b[1;33m,\u001b[0m \u001b[0mread_ahead_limit\u001b[0m\u001b[1;33m=\u001b[0m\u001b[0mread_ahead_limit\u001b[0m\u001b[1;33m)\u001b[0m\u001b[1;33m\u001b[0m\u001b[1;33m\u001b[0m\u001b[0m\n\u001b[0m\u001b[0;32m    686\u001b[0m         \u001b[1;32mif\u001b[0m \u001b[0minfo\u001b[0m\u001b[1;33m:\u001b[0m\u001b[1;33m\u001b[0m\u001b[1;33m\u001b[0m\u001b[0m\n\u001b[0;32m    687\u001b[0m             audio_streams = [x for x in info['streams']\n",
      "\u001b[1;32mc:\\users\\rramn\\appdata\\local\\programs\\python\\python38-32\\lib\\site-packages\\pydub\\utils.py\u001b[0m in \u001b[0;36mmediainfo_json\u001b[1;34m(filepath, read_ahead_limit)\u001b[0m\n\u001b[0;32m    272\u001b[0m \u001b[1;33m\u001b[0m\u001b[0m\n\u001b[0;32m    273\u001b[0m     \u001b[0mcommand\u001b[0m \u001b[1;33m=\u001b[0m \u001b[1;33m[\u001b[0m\u001b[0mprober\u001b[0m\u001b[1;33m,\u001b[0m \u001b[1;34m'-of'\u001b[0m\u001b[1;33m,\u001b[0m \u001b[1;34m'json'\u001b[0m\u001b[1;33m]\u001b[0m \u001b[1;33m+\u001b[0m \u001b[0mcommand_args\u001b[0m\u001b[1;33m\u001b[0m\u001b[1;33m\u001b[0m\u001b[0m\n\u001b[1;32m--> 274\u001b[1;33m     \u001b[0mres\u001b[0m \u001b[1;33m=\u001b[0m \u001b[0mPopen\u001b[0m\u001b[1;33m(\u001b[0m\u001b[0mcommand\u001b[0m\u001b[1;33m,\u001b[0m \u001b[0mstdin\u001b[0m\u001b[1;33m=\u001b[0m\u001b[0mstdin_parameter\u001b[0m\u001b[1;33m,\u001b[0m \u001b[0mstdout\u001b[0m\u001b[1;33m=\u001b[0m\u001b[0mPIPE\u001b[0m\u001b[1;33m,\u001b[0m \u001b[0mstderr\u001b[0m\u001b[1;33m=\u001b[0m\u001b[0mPIPE\u001b[0m\u001b[1;33m)\u001b[0m\u001b[1;33m\u001b[0m\u001b[1;33m\u001b[0m\u001b[0m\n\u001b[0m\u001b[0;32m    275\u001b[0m     \u001b[0moutput\u001b[0m\u001b[1;33m,\u001b[0m \u001b[0mstderr\u001b[0m \u001b[1;33m=\u001b[0m \u001b[0mres\u001b[0m\u001b[1;33m.\u001b[0m\u001b[0mcommunicate\u001b[0m\u001b[1;33m(\u001b[0m\u001b[0minput\u001b[0m\u001b[1;33m=\u001b[0m\u001b[0mstdin_data\u001b[0m\u001b[1;33m)\u001b[0m\u001b[1;33m\u001b[0m\u001b[1;33m\u001b[0m\u001b[0m\n\u001b[0;32m    276\u001b[0m     \u001b[0moutput\u001b[0m \u001b[1;33m=\u001b[0m \u001b[0moutput\u001b[0m\u001b[1;33m.\u001b[0m\u001b[0mdecode\u001b[0m\u001b[1;33m(\u001b[0m\u001b[1;34m\"utf-8\"\u001b[0m\u001b[1;33m,\u001b[0m \u001b[1;34m'ignore'\u001b[0m\u001b[1;33m)\u001b[0m\u001b[1;33m\u001b[0m\u001b[1;33m\u001b[0m\u001b[0m\n",
      "\u001b[1;32mc:\\users\\rramn\\appdata\\local\\programs\\python\\python38-32\\lib\\subprocess.py\u001b[0m in \u001b[0;36m__init__\u001b[1;34m(self, args, bufsize, executable, stdin, stdout, stderr, preexec_fn, close_fds, shell, cwd, env, universal_newlines, startupinfo, creationflags, restore_signals, start_new_session, pass_fds, encoding, errors, text)\u001b[0m\n\u001b[0;32m    852\u001b[0m                             encoding=encoding, errors=errors)\n\u001b[0;32m    853\u001b[0m \u001b[1;33m\u001b[0m\u001b[0m\n\u001b[1;32m--> 854\u001b[1;33m             self._execute_child(args, executable, preexec_fn, close_fds,\n\u001b[0m\u001b[0;32m    855\u001b[0m                                 \u001b[0mpass_fds\u001b[0m\u001b[1;33m,\u001b[0m \u001b[0mcwd\u001b[0m\u001b[1;33m,\u001b[0m \u001b[0menv\u001b[0m\u001b[1;33m,\u001b[0m\u001b[1;33m\u001b[0m\u001b[1;33m\u001b[0m\u001b[0m\n\u001b[0;32m    856\u001b[0m                                 \u001b[0mstartupinfo\u001b[0m\u001b[1;33m,\u001b[0m \u001b[0mcreationflags\u001b[0m\u001b[1;33m,\u001b[0m \u001b[0mshell\u001b[0m\u001b[1;33m,\u001b[0m\u001b[1;33m\u001b[0m\u001b[1;33m\u001b[0m\u001b[0m\n",
      "\u001b[1;32mc:\\users\\rramn\\appdata\\local\\programs\\python\\python38-32\\lib\\subprocess.py\u001b[0m in \u001b[0;36m_execute_child\u001b[1;34m(self, args, executable, preexec_fn, close_fds, pass_fds, cwd, env, startupinfo, creationflags, shell, p2cread, p2cwrite, c2pread, c2pwrite, errread, errwrite, unused_restore_signals, unused_start_new_session)\u001b[0m\n\u001b[0;32m   1305\u001b[0m             \u001b[1;31m# Start the process\u001b[0m\u001b[1;33m\u001b[0m\u001b[1;33m\u001b[0m\u001b[1;33m\u001b[0m\u001b[0m\n\u001b[0;32m   1306\u001b[0m             \u001b[1;32mtry\u001b[0m\u001b[1;33m:\u001b[0m\u001b[1;33m\u001b[0m\u001b[1;33m\u001b[0m\u001b[0m\n\u001b[1;32m-> 1307\u001b[1;33m                 hp, ht, pid, tid = _winapi.CreateProcess(executable, args,\n\u001b[0m\u001b[0;32m   1308\u001b[0m                                          \u001b[1;31m# no special security\u001b[0m\u001b[1;33m\u001b[0m\u001b[1;33m\u001b[0m\u001b[1;33m\u001b[0m\u001b[0m\n\u001b[0;32m   1309\u001b[0m                                          \u001b[1;32mNone\u001b[0m\u001b[1;33m,\u001b[0m \u001b[1;32mNone\u001b[0m\u001b[1;33m,\u001b[0m\u001b[1;33m\u001b[0m\u001b[1;33m\u001b[0m\u001b[0m\n",
      "\u001b[1;31mFileNotFoundError\u001b[0m: [WinError 2] The system cannot find the file specified"
     ]
    }
   ],
   "source": [
    "import os\n",
    "from pydub import AudioSegment\n",
    "from moviepy.video.io.ffmpeg_tools import ffmpeg_extract_subclip\n",
    "\n",
    "# convert youtube time format into seconds\n",
    "def get_sec(time_str):\n",
    "    time_format = time_str.count(':')\n",
    "    if (time_format == 1): # MM:SS\n",
    "        m, s = time_str.split(':')\n",
    "        return int(m) * 60 + int(s)\n",
    "    else: # HH:MM:SS\n",
    "        h, m, s = time_str.split(':')\n",
    "        return int(h) * 3600 + int(m) * 60 + int(s)\n",
    "\n",
    "# get filename without extension\n",
    "def path_leaf(path):\n",
    "    head, tail = os.path.split(path)\n",
    "    return os.path.splitext(tail)[0] or os.path.basename(head)\n",
    "\n",
    "# Function to remove spaces  \n",
    "# and convert into camel case \n",
    "def convert(s): \n",
    "    if(len(s) == 0): \n",
    "        return\n",
    "    s1 = '' \n",
    "    s1 += s[0].upper() \n",
    "    for i in range(1, len(s)): \n",
    "        if (s[i] == ' '): \n",
    "            s1 += s[i + 1].upper() \n",
    "            i += 1\n",
    "        elif(s[i - 1] != ' '): \n",
    "            s1 += s[i]  \n",
    "    return s1  \n",
    "\n",
    "# read csv to generate dataset\n",
    "current_video = ''\n",
    "dst_folder = 'youtube'\n",
    "item = 0\n",
    "dst = \"\"\n",
    "\n",
    "for index, row in videos.iterrows():\n",
    "    \n",
    "    # download video\n",
    "    print(\"LINK:\", row['link'])\n",
    "    if('http' in str(row['link'])): # new link encountered\n",
    "        current_video = row['link']\n",
    "        print('parsing video', current_video)\n",
    "        \n",
    "        # download audio in original format\n",
    "        src = YouTube(row['link']\n",
    "            ).streams.filter(file_extension='mp4', only_audio=True).first( # get mp4 audio stream\n",
    "            ).download(output_path=dst_folder, filename=convert(row['Show'])+\"-\"+str(index)) # write stream to file\n",
    "        print('video downloaded to', src)\n",
    "        \n",
    "        # lossless conversion of mp4 to wav\n",
    "        dst = dst_folder + path_leaf(src) + '.wav'\n",
    "        sound = AudioSegment.from_file(src)\n",
    "        sound.export(dst, format=\"wav\")\n",
    "\n",
    "    # determine time region for cuts\n",
    "    print(\"DEST:\", dst)\n",
    "    splice_len = row['split_length']\n",
    "    start_time = get_sec(row['start'])\n",
    "    end_time = get_sec(row['end'])\n",
    "    \n",
    "    # make cuts by split length\n",
    "    for i in range(start_time, end_time - splice_len, splice_len):\n",
    "        print('clip #:', item, 'clip start:', i, 'clip end:', i + splice_len, 'video start:', start_time, 'video end:', end_time)\n",
    "        ffmpeg_extract_subclip(dst, i, end_time if (i + splice_len > end_time) else (i + splice_len), targetname='../scrapers/youtube/'+str(item)+'-'+str(i)+'.wav')\n",
    "        item += 1"
   ]
  },
  {
   "cell_type": "markdown",
   "metadata": {},
   "source": [
    "## Scraping from CHiME-5 Dataset"
   ]
  },
  {
   "cell_type": "code",
   "execution_count": 10,
   "metadata": {},
   "outputs": [
    {
     "data": {
      "text/html": [
       "<div>\n",
       "<style scoped>\n",
       "    .dataframe tbody tr th:only-of-type {\n",
       "        vertical-align: middle;\n",
       "    }\n",
       "\n",
       "    .dataframe tbody tr th {\n",
       "        vertical-align: top;\n",
       "    }\n",
       "\n",
       "    .dataframe thead th {\n",
       "        text-align: right;\n",
       "    }\n",
       "</style>\n",
       "<table border=\"1\" class=\"dataframe\">\n",
       "  <thead>\n",
       "    <tr style=\"text-align: right;\">\n",
       "      <th></th>\n",
       "      <th>file</th>\n",
       "      <th>session</th>\n",
       "      <th>start</th>\n",
       "      <th>end</th>\n",
       "      <th>total time</th>\n",
       "      <th>units</th>\n",
       "      <th>channels</th>\n",
       "      <th>split_length</th>\n",
       "      <th>Unnamed: 8</th>\n",
       "    </tr>\n",
       "  </thead>\n",
       "  <tbody>\n",
       "    <tr>\n",
       "      <th>0</th>\n",
       "      <td>S22_U02.CH1</td>\n",
       "      <td>22</td>\n",
       "      <td>0:38:26</td>\n",
       "      <td>0:39:16</td>\n",
       "      <td>0:00:50</td>\n",
       "      <td>2,4,6</td>\n",
       "      <td>1,2,3,4</td>\n",
       "      <td>5</td>\n",
       "      <td>NaN</td>\n",
       "    </tr>\n",
       "    <tr>\n",
       "      <th>1</th>\n",
       "      <td>S22_U04.CH4</td>\n",
       "      <td>22</td>\n",
       "      <td>0:58:21</td>\n",
       "      <td>1:22:34</td>\n",
       "      <td>0:24:13</td>\n",
       "      <td>2,4,6</td>\n",
       "      <td>1,2,3,4</td>\n",
       "      <td>5</td>\n",
       "      <td>NaN</td>\n",
       "    </tr>\n",
       "    <tr>\n",
       "      <th>2</th>\n",
       "      <td>S22_U06.CH2</td>\n",
       "      <td>22</td>\n",
       "      <td>1:49:13</td>\n",
       "      <td>1:49:50</td>\n",
       "      <td>0:00:37</td>\n",
       "      <td>2,4,6</td>\n",
       "      <td>1,2,3,4</td>\n",
       "      <td>5</td>\n",
       "      <td>0:25:40</td>\n",
       "    </tr>\n",
       "    <tr>\n",
       "      <th>3</th>\n",
       "      <td>S20_U01.CH1</td>\n",
       "      <td>20</td>\n",
       "      <td>0:36:41</td>\n",
       "      <td>0:37:00</td>\n",
       "      <td>0:00:19</td>\n",
       "      <td>1,6</td>\n",
       "      <td>1,2,3,4</td>\n",
       "      <td>5</td>\n",
       "      <td>NaN</td>\n",
       "    </tr>\n",
       "    <tr>\n",
       "      <th>4</th>\n",
       "      <td>S20_U06.CH2</td>\n",
       "      <td>20</td>\n",
       "      <td>0:26:53</td>\n",
       "      <td>0:29:31</td>\n",
       "      <td>0:02:38</td>\n",
       "      <td>1,6</td>\n",
       "      <td>1,2,3,4</td>\n",
       "      <td>5</td>\n",
       "      <td>0:02:57</td>\n",
       "    </tr>\n",
       "  </tbody>\n",
       "</table>\n",
       "</div>"
      ],
      "text/plain": [
       "          file  session    start      end total time  units channels  \\\n",
       "0  S22_U02.CH1       22  0:38:26  0:39:16    0:00:50  2,4,6  1,2,3,4   \n",
       "1  S22_U04.CH4       22  0:58:21  1:22:34    0:24:13  2,4,6  1,2,3,4   \n",
       "2  S22_U06.CH2       22  1:49:13  1:49:50    0:00:37  2,4,6  1,2,3,4   \n",
       "3  S20_U01.CH1       20  0:36:41  0:37:00    0:00:19    1,6  1,2,3,4   \n",
       "4  S20_U06.CH2       20  0:26:53  0:29:31    0:02:38    1,6  1,2,3,4   \n",
       "\n",
       "   split_length Unnamed: 8  \n",
       "0             5        NaN  \n",
       "1             5        NaN  \n",
       "2             5    0:25:40  \n",
       "3             5        NaN  \n",
       "4             5    0:02:57  "
      ]
     },
     "execution_count": 10,
     "metadata": {},
     "output_type": "execute_result"
    }
   ],
   "source": [
    "import pandas as pd\n",
    "segments = pd.read_csv('../scrapers/chime_clips.csv')\n",
    "segments.head()"
   ]
  },
  {
   "cell_type": "code",
   "execution_count": 11,
   "metadata": {},
   "outputs": [
    {
     "name": "stdout",
     "output_type": "stream",
     "text": [
      "parsing video ../scrapers/chime/S22_U02.CH1.wav\n",
      "../scrapers/chime/S22_U02.CH1.wav doesn't exist.\n",
      "parsing video ../scrapers/chime/S22_U04.CH4.wav\n",
      "../scrapers/chime/S22_U04.CH4.wav doesn't exist.\n",
      "parsing video ../scrapers/chime/S22_U06.CH2.wav\n",
      "../scrapers/chime/S22_U06.CH2.wav doesn't exist.\n",
      "parsing video ../scrapers/chime/S20_U01.CH1.wav\n",
      "../scrapers/chime/S20_U01.CH1.wav doesn't exist.\n",
      "parsing video ../scrapers/chime/S20_U06.CH2.wav\n",
      "../scrapers/chime/S20_U06.CH2.wav doesn't exist.\n",
      "parsing video ../scrapers/chime/S19_U06.CH3.wav\n",
      "../scrapers/chime/S19_U06.CH3.wav doesn't exist.\n",
      "parsing video ../scrapers/chime/S19_U01.CH4.wav\n",
      "../scrapers/chime/S19_U01.CH4.wav doesn't exist.\n",
      "parsing video ../scrapers/chime/S19_U02.CH1.wav\n",
      "../scrapers/chime/S19_U02.CH1.wav doesn't exist.\n",
      "parsing video ../scrapers/chime/S19_U05.CH2.wav\n",
      "../scrapers/chime/S19_U05.CH2.wav doesn't exist.\n",
      "parsing video ../scrapers/chime/S17_U01.CH3.wav\n",
      "../scrapers/chime/S17_U01.CH3.wav doesn't exist.\n",
      "parsing video ../scrapers/chime/S17_U02.CH4.wav\n",
      "../scrapers/chime/S17_U02.CH4.wav doesn't exist.\n",
      "parsing video ../scrapers/chime/S17_U03.CH1.wav\n",
      "../scrapers/chime/S17_U03.CH1.wav doesn't exist.\n",
      "parsing video ../scrapers/chime/S17_U04.CH2.wav\n",
      "../scrapers/chime/S17_U04.CH2.wav doesn't exist.\n",
      "parsing video ../scrapers/chime/S17_U05.CH3.wav\n",
      "../scrapers/chime/S17_U05.CH3.wav doesn't exist.\n",
      "parsing video ../scrapers/chime/S17_U06.CH4.wav\n",
      "../scrapers/chime/S17_U06.CH4.wav doesn't exist.\n",
      "parsing video ../scrapers/chime/S17_U02.CH1.wav\n",
      "../scrapers/chime/S17_U02.CH1.wav doesn't exist.\n",
      "parsing video ../scrapers/chime/S17_U04.CH2.wav\n",
      "../scrapers/chime/S17_U04.CH2.wav doesn't exist.\n",
      "parsing video ../scrapers/chime/S12_U06.CH3.wav\n",
      "../scrapers/chime/S12_U06.CH3.wav doesn't exist.\n",
      "parsing video ../scrapers/chime/S12_U02.CH4.wav\n",
      "../scrapers/chime/S12_U02.CH4.wav doesn't exist.\n",
      "parsing video ../scrapers/chime/S12_U04.CH1.wav\n",
      "../scrapers/chime/S12_U04.CH1.wav doesn't exist.\n",
      "parsing video ../scrapers/chime/S12_U05.CH2.wav\n",
      "../scrapers/chime/S12_U05.CH2.wav doesn't exist.\n",
      "parsing video ../scrapers/chime/S12_U02.CH3.wav\n",
      "../scrapers/chime/S12_U02.CH3.wav doesn't exist.\n",
      "parsing video ../scrapers/chime/S09_U06.CH4.wav\n",
      "../scrapers/chime/S09_U06.CH4.wav doesn't exist.\n",
      "parsing video ../scrapers/chime/S09_U06.CH1.wav\n",
      "../scrapers/chime/S09_U06.CH1.wav doesn't exist.\n",
      "parsing video ../scrapers/chime/S09_U06.CH4.wav\n",
      "../scrapers/chime/S09_U06.CH4.wav doesn't exist.\n",
      "parsing video ../scrapers/chime/S03_U01.CH1.wav\n",
      "../scrapers/chime/S03_U01.CH1.wav doesn't exist.\n",
      "parsing video ../scrapers/chime/S03_U01.CH2.wav\n",
      "../scrapers/chime/S03_U01.CH2.wav doesn't exist.\n",
      "parsing video ../scrapers/chime/S03_U01.CH3.wav\n",
      "../scrapers/chime/S03_U01.CH3.wav doesn't exist.\n",
      "parsing video ../scrapers/chime/S03_U01.CH4.wav\n",
      "../scrapers/chime/S03_U01.CH4.wav doesn't exist.\n",
      "parsing video ../scrapers/chime/S03_U01.CH1.wav\n",
      "../scrapers/chime/S03_U01.CH1.wav doesn't exist.\n",
      "parsing video ../scrapers/chime/S03_U01.CH2.wav\n",
      "../scrapers/chime/S03_U01.CH2.wav doesn't exist.\n",
      "parsing video ../scrapers/chime/S03_U02.CH1.wav\n",
      "../scrapers/chime/S03_U02.CH1.wav doesn't exist.\n",
      "parsing video ../scrapers/chime/S03_U02.CH1.wav\n",
      "../scrapers/chime/S03_U02.CH1.wav doesn't exist.\n",
      "parsing video ../scrapers/chime/S03_U02.CH1.wav\n",
      "../scrapers/chime/S03_U02.CH1.wav doesn't exist.\n",
      "parsing video ../scrapers/chime/S03_U04.CH1.wav\n",
      "../scrapers/chime/S03_U04.CH1.wav doesn't exist.\n",
      "parsing video ../scrapers/chime/S03_U04.CH1.wav\n",
      "../scrapers/chime/S03_U04.CH1.wav doesn't exist.\n",
      "parsing video ../scrapers/chime/S03_U04.CH1.wav\n",
      "../scrapers/chime/S03_U04.CH1.wav doesn't exist.\n",
      "parsing video ../scrapers/chime/S03_U03.CH1.wav\n",
      "../scrapers/chime/S03_U03.CH1.wav doesn't exist.\n",
      "parsing video ../scrapers/chime/S18_U01.CH4.wav\n",
      "../scrapers/chime/S18_U01.CH4.wav doesn't exist.\n",
      "parsing video ../scrapers/chime/S18_U01.CH4.wav\n",
      "../scrapers/chime/S18_U01.CH4.wav doesn't exist.\n",
      "parsing video ../scrapers/chime/S18_U01.CH4.wav\n",
      "../scrapers/chime/S18_U01.CH4.wav doesn't exist.\n",
      "parsing video ../scrapers/chime/S18_U02.CH1.wav\n",
      "../scrapers/chime/S18_U02.CH1.wav doesn't exist.\n",
      "parsing video ../scrapers/chime/S18_U02.CH1.wav\n",
      "../scrapers/chime/S18_U02.CH1.wav doesn't exist.\n",
      "parsing video ../scrapers/chime/S18_U02.CH2.wav\n",
      "../scrapers/chime/S18_U02.CH2.wav doesn't exist.\n",
      "parsing video ../scrapers/chime/S18_U02.CH2.wav\n",
      "../scrapers/chime/S18_U02.CH2.wav doesn't exist.\n",
      "parsing video ../scrapers/chime/S18_U05.CH1.wav\n",
      "../scrapers/chime/S18_U05.CH1.wav doesn't exist.\n",
      "parsing video ../scrapers/chime/S18_U05.CH1.wav\n",
      "../scrapers/chime/S18_U05.CH1.wav doesn't exist.\n",
      "parsing video ../scrapers/chime/S18_U05.CH1.wav\n",
      "../scrapers/chime/S18_U05.CH1.wav doesn't exist.\n",
      "parsing video ../scrapers/chime/S18_U03.CH1.wav\n",
      "../scrapers/chime/S18_U03.CH1.wav doesn't exist.\n",
      "parsing video ../scrapers/chime/S18_U03.CH2.wav\n",
      "../scrapers/chime/S18_U03.CH2.wav doesn't exist.\n",
      "parsing video ../scrapers/chime/S02_U01.CH1.wav\n",
      "../scrapers/chime/S02_U01.CH1.wav doesn't exist.\n",
      "parsing video ../scrapers/chime/S02_U01.CH2.wav\n",
      "../scrapers/chime/S02_U01.CH2.wav doesn't exist.\n",
      "parsing video ../scrapers/chime/S02_U01.CH3.wav\n",
      "../scrapers/chime/S02_U01.CH3.wav doesn't exist.\n"
     ]
    }
   ],
   "source": [
    "import os, random\n",
    "import numpy as np\n",
    "from pydub import AudioSegment\n",
    "from moviepy.video.io.ffmpeg_tools import ffmpeg_extract_subclip\n",
    "\n",
    "src_folder = '../scrapers/chime/' # chime original dataset\n",
    "dst_folder = '../scrapers/chime/clips/' # resulting clips of specified length\n",
    "\n",
    "# convert time format into seconds\n",
    "def get_sec(time_str):\n",
    "    time_format = time_str.count(':')\n",
    "    if (time_format == 1): # MM:SS\n",
    "        m, s = time_str.split(':')\n",
    "        return int(m) * 60 + int(s)\n",
    "    else: # HH:MM:SS\n",
    "        h, m, s = time_str.split(':')\n",
    "        return int(h) * 3600 + int(m) * 60 + int(s)\n",
    "    \n",
    "def generate_id(session, unit, channel):\n",
    "    s_id = str(session).zfill(2)\n",
    "    u_id = str(unit).zfill(2)\n",
    "    return 'S'+s_id+'_U'+u_id+'.CH'+channel\n",
    "\n",
    "# read specific files\n",
    "def parse_by_filename():\n",
    "    item = 0\n",
    "    for index, row in segments.iterrows():\n",
    "\n",
    "        # download video\n",
    "        if('.' in str(row['file'])): # new audio file encountered\n",
    "            dst = src_folder + row['file'] + \".wav\"\n",
    "            print('parsing video', dst)\n",
    "\n",
    "        if (os.path.exists(dst)):    \n",
    "            # determine time region for cuts\n",
    "            splice_len = row['split_length']\n",
    "            start_time = get_sec(row['start'])\n",
    "            end_time = get_sec(row['end'])\n",
    "\n",
    "            # clip_file(dst, item, start_time, end_time, splice_len, targetname) # refactor this function out\n",
    "            # make cuts by split length\n",
    "            for i in range(start_time, end_time - splice_len, splice_len):\n",
    "                print('clip #:', item, 'clip start:', i, 'clip end:', i + splice_len, 'video start:', start_time, 'video end:', end_time)\n",
    "                ffmpeg_extract_subclip(dst, i, end_time if (i + splice_len > end_time) else (i + splice_len), targetname=dst_folder+row['file']+'-'+str(item)+'-'+str(i)+'.wav')\n",
    "                item += 1\n",
    "            #item += 1\n",
    "\n",
    "            print('DONE.')\n",
    "        else:\n",
    "            print(dst + \" doesn't exist.\")\n",
    "\n",
    "# read all the ids \n",
    "def parse_by_ids():\n",
    "    item = 0\n",
    "    for index, row in segments.iterrows():\n",
    "        sessions = [s.strip() for s in str(row['session']).split(',')]\n",
    "        units = [u.strip() for u in str(row['units']).split(',')]\n",
    "        channels = [c.strip() for c in str(row['channels']).split(',')]\n",
    "        \n",
    "        for session in sessions:\n",
    "            for unit in units:\n",
    "                for channel in channels:\n",
    "                    dst = src_folder + generate_id(session, unit, channel) + '.wav'\n",
    "                    \n",
    "                    # determine time region for cuts\n",
    "                    splice_len = row['split_length']\n",
    "                    start_time = get_sec(row['start'])\n",
    "                    end_time = get_sec(row['end'])\n",
    "                    \n",
    "                    # make cuts by split length\n",
    "                    for i in range(start_time, end_time - splice_len, splice_len):\n",
    "                        print('clip #:', item, 'clip start:', i, 'clip end:', i + splice_len, 'video start:', start_time, 'video end:', end_time)\n",
    "                        ffmpeg_extract_subclip(dst, i, end_time if (i + splice_len > end_time) else (i + splice_len), targetname=dst_folder+generate_id(session, unit, channel)+'-'+str(item)+'-'+str(i)+'.wav')\n",
    "                        item += 1\n",
    "\n",
    "                    print('DONE.')\n",
    "\n",
    "# generate a dataset of num samples (sequential down dataframe)\n",
    "def parse_by_limit(num):\n",
    "    item = 0\n",
    "    \n",
    "    for index, row in segments.iterrows():\n",
    "        sessions = [s.strip() for s in str(row['session']).split(',')]\n",
    "        units = [u.strip() for u in str(row['units']).split(',')]\n",
    "        channels = [c.strip() for c in str(row['channels']).split(',')]\n",
    "\n",
    "        sample_id = generate_id(random.choice(sessions), random.choice(units), random.choice(channels))\n",
    "\n",
    "        dst = src_folder + sample_id + '.wav'\n",
    "\n",
    "        # determine time region for cuts\n",
    "        splice_len = row['split_length']\n",
    "        start_time = get_sec(row['start'])\n",
    "        end_time = get_sec(row['end'])\n",
    "\n",
    "        # make cuts by split length\n",
    "        for i in range(start_time, end_time - splice_len, splice_len):\n",
    "            print('clip #:', item, 'clip start:', i, 'clip end:', i + splice_len, 'video start:', start_time, 'video end:', end_time)\n",
    "            ffmpeg_extract_subclip(dst, i, end_time if (i + splice_len > end_time) else (i + splice_len), targetname=dst_folder+sample_id+'-'+str(item)+'-'+str(i)+'.wav')\n",
    "            item += 1\n",
    "\n",
    "        if item >= num:\n",
    "            return\n",
    "\n",
    "        print('DONE.')\n",
    "        \n",
    "parse_by_filename()"
   ]
  },
  {
   "cell_type": "markdown",
   "metadata": {},
   "source": [
    "## Clean Set"
   ]
  },
  {
   "cell_type": "code",
   "execution_count": 13,
   "metadata": {},
   "outputs": [
    {
     "data": {
      "text/plain": [
       "(441,)"
      ]
     },
     "execution_count": 13,
     "metadata": {},
     "output_type": "execute_result"
    }
   ],
   "source": [
    "import librosa\n",
    "import numpy as np\n",
    "\n",
    "# load audio\n",
    "x, sr = librosa.load(\"chime/clips/S18_U05.CH1-297-7694.wav\")\n",
    "\n",
    "# compute the short-time energy using a list comprehension\n",
    "\n",
    "hop_length = 256\n",
    "frame_length = 512\n",
    "\n",
    "energy = np.array([\n",
    "    sum(abs(x[i:i+frame_length]**2))\n",
    "    for i in range(0, len(x), hop_length)\n",
    "])\n",
    "\n",
    "energy.shape"
   ]
  },
  {
   "cell_type": "code",
   "execution_count": 20,
   "metadata": {},
   "outputs": [
    {
     "data": {
      "text/plain": [
       "(1, 442)"
      ]
     },
     "execution_count": 20,
     "metadata": {},
     "output_type": "execute_result"
    }
   ],
   "source": [
    "# compute the RMSE\n",
    "\n",
    "rmse = librosa.feature.rms(x, frame_length=frame_length, hop_length=hop_length, center=True)\n",
    "\n",
    "rmse.shape"
   ]
  },
  {
   "cell_type": "code",
   "execution_count": 33,
   "metadata": {},
   "outputs": [],
   "source": [
    "%matplotlib inline\n",
    "import numpy, scipy, matplotlib.pyplot as plt, IPython.display as ipd\n",
    "import librosa, librosa.display\n",
    "plt.rcParams['figure.figsize'] = (14, 5)"
   ]
  },
  {
   "cell_type": "code",
   "execution_count": 34,
   "metadata": {},
   "outputs": [],
   "source": [
    "plt.style.use('seaborn-muted')\n",
    "plt.rcParams['figure.figsize'] = (14, 5)\n",
    "plt.rcParams['axes.grid'] = True\n",
    "plt.rcParams['axes.spines.left'] = False\n",
    "plt.rcParams['axes.spines.right'] = False\n",
    "plt.rcParams['axes.spines.bottom'] = False\n",
    "plt.rcParams['axes.spines.top'] = False\n",
    "plt.rcParams['axes.xmargin'] = 0\n",
    "plt.rcParams['axes.ymargin'] = 0\n",
    "plt.rcParams['image.cmap'] = 'gray'\n",
    "plt.rcParams['image.interpolation'] = None"
   ]
  },
  {
   "cell_type": "code",
   "execution_count": 35,
   "metadata": {},
   "outputs": [
    {
     "data": {
      "text/plain": [
       "<matplotlib.collections.PolyCollection at 0x12d020f50>"
      ]
     },
     "execution_count": 35,
     "metadata": {},
     "output_type": "execute_result"
    },
    {
     "data": {
      "image/png": "[encoded data removed]",
      "text/plain": [
       "<Figure size 1008x360 with 1 Axes>"
      ]
     },
     "metadata": {
      "needs_background": "light"
     },
     "output_type": "display_data"
    }
   ],
   "source": [
    "librosa.display.waveplot(x, sr=sr)"
   ]
  },
  {
   "cell_type": "code",
   "execution_count": 36,
   "metadata": {},
   "outputs": [
    {
     "ename": "TypeError",
     "evalue": "object of type 'numpy.float32' has no len()",
     "output_type": "error",
     "traceback": [
      "\u001b[0;31m-------------------------------------------------------------------\u001b[0m",
      "\u001b[0;31mTypeError\u001b[0m                         Traceback (most recent call last)",
      "\u001b[0;32m<ipython-input-36-e47ce4588302>\u001b[0m in \u001b[0;36m<module>\u001b[0;34m\u001b[0m\n\u001b[1;32m      7\u001b[0m \u001b[0mlibrosa\u001b[0m\u001b[0;34m.\u001b[0m\u001b[0mdisplay\u001b[0m\u001b[0;34m.\u001b[0m\u001b[0mwaveplot\u001b[0m\u001b[0;34m(\u001b[0m\u001b[0mx\u001b[0m\u001b[0;34m,\u001b[0m \u001b[0msr\u001b[0m\u001b[0;34m=\u001b[0m\u001b[0msr\u001b[0m\u001b[0;34m,\u001b[0m \u001b[0malpha\u001b[0m\u001b[0;34m=\u001b[0m\u001b[0;36m0.4\u001b[0m\u001b[0;34m)\u001b[0m\u001b[0;34m\u001b[0m\u001b[0;34m\u001b[0m\u001b[0m\n\u001b[1;32m      8\u001b[0m \u001b[0mplt\u001b[0m\u001b[0;34m.\u001b[0m\u001b[0mplot\u001b[0m\u001b[0;34m(\u001b[0m\u001b[0mt\u001b[0m\u001b[0;34m,\u001b[0m \u001b[0menergy\u001b[0m\u001b[0;34m/\u001b[0m\u001b[0menergy\u001b[0m\u001b[0;34m.\u001b[0m\u001b[0mmax\u001b[0m\u001b[0;34m(\u001b[0m\u001b[0;34m)\u001b[0m\u001b[0;34m,\u001b[0m \u001b[0;34m'r--'\u001b[0m\u001b[0;34m)\u001b[0m             \u001b[0;31m# normalized for visualization\u001b[0m\u001b[0;34m\u001b[0m\u001b[0;34m\u001b[0m\u001b[0m\n\u001b[0;32m----> 9\u001b[0;31m \u001b[0mplt\u001b[0m\u001b[0;34m.\u001b[0m\u001b[0mplot\u001b[0m\u001b[0;34m(\u001b[0m\u001b[0mt\u001b[0m\u001b[0;34m[\u001b[0m\u001b[0;34m:\u001b[0m\u001b[0mlen\u001b[0m\u001b[0;34m(\u001b[0m\u001b[0mrmse\u001b[0m\u001b[0;34m)\u001b[0m\u001b[0;34m]\u001b[0m\u001b[0;34m,\u001b[0m \u001b[0mrmse\u001b[0m\u001b[0;34m/\u001b[0m\u001b[0mrmse\u001b[0m\u001b[0;34m.\u001b[0m\u001b[0mmax\u001b[0m\u001b[0;34m(\u001b[0m\u001b[0;34m)\u001b[0m\u001b[0;34m,\u001b[0m \u001b[0mcolor\u001b[0m\u001b[0;34m=\u001b[0m\u001b[0;34m'g'\u001b[0m\u001b[0;34m)\u001b[0m \u001b[0;31m# normalized for visualization\u001b[0m\u001b[0;34m\u001b[0m\u001b[0;34m\u001b[0m\u001b[0m\n\u001b[0m\u001b[1;32m     10\u001b[0m \u001b[0mplt\u001b[0m\u001b[0;34m.\u001b[0m\u001b[0mlegend\u001b[0m\u001b[0;34m(\u001b[0m\u001b[0;34m(\u001b[0m\u001b[0;34m'Energy'\u001b[0m\u001b[0;34m,\u001b[0m \u001b[0;34m'RMSE'\u001b[0m\u001b[0;34m)\u001b[0m\u001b[0;34m)\u001b[0m\u001b[0;34m\u001b[0m\u001b[0;34m\u001b[0m\u001b[0m\n",
      "\u001b[0;31mTypeError\u001b[0m: object of type 'numpy.float32' has no len()"
     ]
    },
    {
     "data": {
      "image/png": "[encoded data removed]",
      "text/plain": [
       "<Figure size 1008x360 with 1 Axes>"
      ]
     },
     "metadata": {
      "needs_background": "light"
     },
     "output_type": "display_data"
    }
   ],
   "source": [
    "# plot both the energy and RMSE along with the waveform\n",
    "\n",
    "frames = range(len(energy))\n",
    "t = librosa.frames_to_time(frames, sr=sr, hop_length=hop_length)\n",
    "\n",
    "librosa.display.waveplot(x, sr=sr, alpha=0.4)\n",
    "plt.plot(t, energy/energy.max(), 'r--')             # normalized for visualization\n",
    "plt.plot(t[:len(rmse)], rmse/rmse.max(), color='g') # normalized for visualization\n",
    "plt.legend(('Energy', 'RMSE'))"
   ]
  },
  {
   "cell_type": "markdown",
   "metadata": {},
   "source": [
    "While RMS is the most accurate measure, one thing to note: we percieve loudness differently at different frequencies. So convert the audio to frequency space with an fft (numpy.fft should work great on ~30s of audio). Then compute a power spectral density from this. Weight the PSD by frequency using some loudness curve (Fletcher Munson Curve?). Especially frequencies below 10Hz, since there will be a lot of power there (it would dominate the RMS calculation in the time-domain), yet we can't hear it. Now integrate the PSD and take the square root and that will give a percieved RMS."
   ]
  },
  {
   "cell_type": "code",
   "execution_count": 37,
   "metadata": {},
   "outputs": [
    {
     "data": {
      "image/png": "[encoded data removed]",
      "text/plain": [
       "<Figure size 432x288 with 1 Axes>"
      ]
     },
     "metadata": {
      "needs_background": "light"
     },
     "output_type": "display_data"
    }
   ],
   "source": [
    "import matplotlib.pyplot as plt\n",
    "from scipy.io import wavfile as wav\n",
    "from scipy.fftpack import fft\n",
    "import numpy as np\n",
    "\n",
    "rate, data = wav.read(\"chime/clips/S18_U05.CH1-297-7694.wav\")\n",
    "fft_out = fft(data)\n",
    "\n",
    "%matplotlib inline\n",
    "plt.plot(data, np.abs(fft_out))\n",
    "plt.show()"
   ]
  },
  {
   "cell_type": "code",
   "execution_count": null,
   "metadata": {},
   "outputs": [],
   "source": []
  }
 ],
 "metadata": {
  "kernelspec": {
   "display_name": "Python 3",
   "language": "python",
   "name": "python3"
  },
  "language_info": {
   "codemirror_mode": {
    "name": "ipython",
    "version": 3
   },
   "file_extension": ".py",
   "mimetype": "text/x-python",
   "name": "python",
   "nbconvert_exporter": "python",
   "pygments_lexer": "ipython3",
   "version": "3.8.3"
  }
 },
 "nbformat": 4,
 "nbformat_minor": 4
}
