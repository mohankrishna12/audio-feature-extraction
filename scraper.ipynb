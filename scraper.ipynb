{
 "cells": [
  {
   "cell_type": "markdown",
   "metadata": {},
   "source": [
    "# Data Collection"
   ]
  },
  {
   "cell_type": "code",
   "execution_count": 3,
   "metadata": {},
   "outputs": [],
   "source": [
    "from pytube import YouTube\n",
    "yt = YouTube('https://www.youtube.com/watch?v=U5fX9tbA_Tg')"
   ]
  },
  {
   "cell_type": "code",
   "execution_count": 6,
   "metadata": {},
   "outputs": [
    {
     "name": "stdout",
     "output_type": "stream",
     "text": [
      "Live from Space: James Zooms w/ NASA Astronauts\n",
      "https://i.ytimg.com/vi/U5fX9tbA_Tg/maxresdefault.jpg\n"
     ]
    }
   ],
   "source": [
    "print(yt.title)\n",
    "print(yt.thumbnail_url)"
   ]
  },
  {
   "cell_type": "code",
   "execution_count": 7,
   "metadata": {},
   "outputs": [
    {
     "data": {
      "text/plain": [
       "[<Stream: itag=\"18\" mime_type=\"video/mp4\" res=\"360p\" fps=\"30fps\" vcodec=\"avc1.42001E\" acodec=\"mp4a.40.2\" progressive=\"True\" type=\"video\">,\n",
       " <Stream: itag=\"22\" mime_type=\"video/mp4\" res=\"720p\" fps=\"30fps\" vcodec=\"avc1.64001F\" acodec=\"mp4a.40.2\" progressive=\"True\" type=\"video\">,\n",
       " <Stream: itag=\"137\" mime_type=\"video/mp4\" res=\"1080p\" fps=\"30fps\" vcodec=\"avc1.640028\" progressive=\"False\" type=\"video\">,\n",
       " <Stream: itag=\"248\" mime_type=\"video/webm\" res=\"1080p\" fps=\"30fps\" vcodec=\"vp9\" progressive=\"False\" type=\"video\">,\n",
       " <Stream: itag=\"136\" mime_type=\"video/mp4\" res=\"720p\" fps=\"30fps\" vcodec=\"avc1.64001f\" progressive=\"False\" type=\"video\">,\n",
       " <Stream: itag=\"247\" mime_type=\"video/webm\" res=\"720p\" fps=\"30fps\" vcodec=\"vp9\" progressive=\"False\" type=\"video\">,\n",
       " <Stream: itag=\"135\" mime_type=\"video/mp4\" res=\"480p\" fps=\"30fps\" vcodec=\"avc1.4d401f\" progressive=\"False\" type=\"video\">,\n",
       " <Stream: itag=\"244\" mime_type=\"video/webm\" res=\"480p\" fps=\"30fps\" vcodec=\"vp9\" progressive=\"False\" type=\"video\">,\n",
       " <Stream: itag=\"134\" mime_type=\"video/mp4\" res=\"360p\" fps=\"30fps\" vcodec=\"avc1.4d401e\" progressive=\"False\" type=\"video\">,\n",
       " <Stream: itag=\"243\" mime_type=\"video/webm\" res=\"360p\" fps=\"30fps\" vcodec=\"vp9\" progressive=\"False\" type=\"video\">,\n",
       " <Stream: itag=\"133\" mime_type=\"video/mp4\" res=\"240p\" fps=\"30fps\" vcodec=\"avc1.4d4015\" progressive=\"False\" type=\"video\">,\n",
       " <Stream: itag=\"242\" mime_type=\"video/webm\" res=\"240p\" fps=\"30fps\" vcodec=\"vp9\" progressive=\"False\" type=\"video\">,\n",
       " <Stream: itag=\"160\" mime_type=\"video/mp4\" res=\"144p\" fps=\"30fps\" vcodec=\"avc1.4d400c\" progressive=\"False\" type=\"video\">,\n",
       " <Stream: itag=\"278\" mime_type=\"video/webm\" res=\"144p\" fps=\"30fps\" vcodec=\"vp9\" progressive=\"False\" type=\"video\">,\n",
       " <Stream: itag=\"140\" mime_type=\"audio/mp4\" abr=\"128kbps\" acodec=\"mp4a.40.2\" progressive=\"False\" type=\"audio\">,\n",
       " <Stream: itag=\"249\" mime_type=\"audio/webm\" abr=\"50kbps\" acodec=\"opus\" progressive=\"False\" type=\"audio\">,\n",
       " <Stream: itag=\"250\" mime_type=\"audio/webm\" abr=\"70kbps\" acodec=\"opus\" progressive=\"False\" type=\"audio\">,\n",
       " <Stream: itag=\"251\" mime_type=\"audio/webm\" abr=\"160kbps\" acodec=\"opus\" progressive=\"False\" type=\"audio\">]"
      ]
     },
     "execution_count": 7,
     "metadata": {},
     "output_type": "execute_result"
    }
   ],
   "source": [
    "# streams available to download\n",
    "yt.streams.all()"
   ]
  },
  {
   "cell_type": "code",
   "execution_count": 60,
   "metadata": {},
   "outputs": [
    {
     "data": {
      "text/html": [
       "<div>\n",
       "<style scoped>\n",
       "    .dataframe tbody tr th:only-of-type {\n",
       "        vertical-align: middle;\n",
       "    }\n",
       "\n",
       "    .dataframe tbody tr th {\n",
       "        vertical-align: top;\n",
       "    }\n",
       "\n",
       "    .dataframe thead th {\n",
       "        text-align: right;\n",
       "    }\n",
       "</style>\n",
       "<table border=\"1\" class=\"dataframe\">\n",
       "  <thead>\n",
       "    <tr style=\"text-align: right;\">\n",
       "      <th></th>\n",
       "      <th>link</th>\n",
       "      <th>start</th>\n",
       "      <th>end</th>\n",
       "      <th>class</th>\n",
       "      <th>split_length</th>\n",
       "    </tr>\n",
       "  </thead>\n",
       "  <tbody>\n",
       "    <tr>\n",
       "      <th>0</th>\n",
       "      <td>https://www.youtube.com/watch?v=U5fX9tbA_Tg</td>\n",
       "      <td>0:00</td>\n",
       "      <td>0:35</td>\n",
       "      <td>organic</td>\n",
       "      <td>5</td>\n",
       "    </tr>\n",
       "    <tr>\n",
       "      <th>1</th>\n",
       "      <td>NaN</td>\n",
       "      <td>0:35</td>\n",
       "      <td>0:39</td>\n",
       "      <td>electronic</td>\n",
       "      <td>5</td>\n",
       "    </tr>\n",
       "    <tr>\n",
       "      <th>2</th>\n",
       "      <td>NaN</td>\n",
       "      <td>0:40</td>\n",
       "      <td>0:47</td>\n",
       "      <td>organic</td>\n",
       "      <td>5</td>\n",
       "    </tr>\n",
       "    <tr>\n",
       "      <th>3</th>\n",
       "      <td>NaN</td>\n",
       "      <td>0:47</td>\n",
       "      <td>1:10</td>\n",
       "      <td>electronic</td>\n",
       "      <td>5</td>\n",
       "    </tr>\n",
       "  </tbody>\n",
       "</table>\n",
       "</div>"
      ],
      "text/plain": [
       "                                          link start   end       class  \\\n",
       "0  https://www.youtube.com/watch?v=U5fX9tbA_Tg  0:00  0:35     organic   \n",
       "1                                          NaN  0:35  0:39  electronic   \n",
       "2                                          NaN  0:40  0:47     organic   \n",
       "3                                          NaN  0:47  1:10  electronic   \n",
       "\n",
       "   split_length  \n",
       "0             5  \n",
       "1             5  \n",
       "2             5  \n",
       "3             5  "
      ]
     },
     "execution_count": 60,
     "metadata": {},
     "output_type": "execute_result"
    }
   ],
   "source": [
    "import pandas as pd\n",
    "videos = pd.read_csv('youtube_videos.csv')\n",
    "videos.head()"
   ]
  },
  {
   "cell_type": "code",
   "execution_count": 70,
   "metadata": {},
   "outputs": [
    {
     "name": "stdout",
     "output_type": "stream",
     "text": [
      "parsing video https://www.youtube.com/watch?v=U5fX9tbA_Tg\n",
      "video downloaded to /Users/rramnauth/Desktop/audio-feature-extraction/youtube/audio_0.mp4\n",
      "clip #: 0 clip start: 0 clip end: 5 video start: 0 video end: 35\n",
      "Moviepy - Running:\n",
      ">>> \"+ \" \".join(cmd)\n",
      "Moviepy - Command successful\n",
      "clip #: 1 clip start: 5 clip end: 10 video start: 0 video end: 35\n",
      "Moviepy - Running:\n",
      ">>> \"+ \" \".join(cmd)\n",
      "Moviepy - Command successful\n",
      "clip #: 2 clip start: 10 clip end: 15 video start: 0 video end: 35\n",
      "Moviepy - Running:\n",
      ">>> \"+ \" \".join(cmd)\n",
      "Moviepy - Command successful\n",
      "clip #: 3 clip start: 15 clip end: 20 video start: 0 video end: 35\n",
      "Moviepy - Running:\n",
      ">>> \"+ \" \".join(cmd)\n",
      "Moviepy - Command successful\n",
      "clip #: 4 clip start: 20 clip end: 25 video start: 0 video end: 35\n",
      "Moviepy - Running:\n",
      ">>> \"+ \" \".join(cmd)\n",
      "Moviepy - Command successful\n",
      "clip #: 5 clip start: 25 clip end: 30 video start: 0 video end: 35\n",
      "Moviepy - Running:\n",
      ">>> \"+ \" \".join(cmd)\n",
      "Moviepy - Command successful\n",
      "clip #: 6 clip start: 40 clip end: 45 video start: 40 video end: 47\n",
      "Moviepy - Running:\n",
      ">>> \"+ \" \".join(cmd)\n",
      "Moviepy - Command successful\n",
      "clip #: 7 clip start: 47 clip end: 52 video start: 47 video end: 70\n",
      "Moviepy - Running:\n",
      ">>> \"+ \" \".join(cmd)\n",
      "Moviepy - Command successful\n",
      "clip #: 8 clip start: 52 clip end: 57 video start: 47 video end: 70\n",
      "Moviepy - Running:\n",
      ">>> \"+ \" \".join(cmd)\n",
      "Moviepy - Command successful\n",
      "clip #: 9 clip start: 57 clip end: 62 video start: 47 video end: 70\n",
      "Moviepy - Running:\n",
      ">>> \"+ \" \".join(cmd)\n",
      "Moviepy - Command successful\n",
      "clip #: 10 clip start: 62 clip end: 67 video start: 47 video end: 70\n",
      "Moviepy - Running:\n",
      ">>> \"+ \" \".join(cmd)\n",
      "Moviepy - Command successful\n"
     ]
    }
   ],
   "source": [
    "import os\n",
    "from pydub import AudioSegment\n",
    "from moviepy.video.io.ffmpeg_tools import ffmpeg_extract_subclip\n",
    "\n",
    "# convert youtube time format into seconds\n",
    "def get_sec(time_str):\n",
    "    time_format = time_str.count(':')\n",
    "    if (time_format == 1): # MM:SS\n",
    "        m, s = time_str.split(':')\n",
    "        return int(m) * 60 + int(s)\n",
    "    else: # HH:MM:SS\n",
    "        h, m, s = time_str.split(':')\n",
    "        return int(h) * 3600 + int(m) * 60 + int(s)\n",
    "\n",
    "# get filename without extension\n",
    "def path_leaf(path):\n",
    "    head, tail = os.path.split(path)\n",
    "    return os.path.splitext(tail)[0] or os.path.basename(head)\n",
    "\n",
    "# read csv to generate dataset\n",
    "current_video = ''\n",
    "dst_folder = 'youtube/'\n",
    "item = 0\n",
    "\n",
    "for index, row in videos.iterrows():\n",
    "    \n",
    "    # download video\n",
    "    if('https://www.youtube.com/watch?v=' in str(row['link'])): # new link encountered\n",
    "        current_video = row['link']\n",
    "        print('parsing video', current_video)\n",
    "        \n",
    "        # download audio in original format\n",
    "        src = YouTube(row['link']\n",
    "            ).streams.filter(file_extension='mp4', only_audio=True).first( # get mp4 audio stream\n",
    "            ).download(output_path=dst_folder, filename='audio_'+str(index)) # write stream to file\n",
    "        print('video downloaded to', current_loc)\n",
    "        \n",
    "        # lossless conversion of mp4 to wav\n",
    "        dst = dst_folder + path_leaf(src) + '.wav'\n",
    "        sound = AudioSegment.from_file(src)\n",
    "        sound.export(dst, format=\"wav\")\n",
    "\n",
    "    # determine time region for cuts\n",
    "    splice_len = row['split_length']\n",
    "    start_time = get_sec(row['start'])\n",
    "    end_time = get_sec(row['end'])\n",
    "    \n",
    "    # make cuts by split length\n",
    "    for i in range(start_time, end_time - splice_len, splice_len):\n",
    "        print('clip #:', item, 'clip start:', i, 'clip end:', i + splice_len, 'video start:', start_time, 'video end:', end_time)\n",
    "        ffmpeg_extract_subclip(dst, i, end_time if (i + splice_len > end_time) else (i + splice_len), targetname='youtube/'+row['class']+'/'+str(item)+'-'+str(i)+'.wav')\n",
    "        item += 1"
   ]
  },
  {
   "cell_type": "code",
   "execution_count": null,
   "metadata": {},
   "outputs": [],
   "source": []
  }
 ],
 "metadata": {
  "kernelspec": {
   "display_name": "Python 3",
   "language": "python",
   "name": "python3"
  },
  "language_info": {
   "codemirror_mode": {
    "name": "ipython",
    "version": 3
   },
   "file_extension": ".py",
   "mimetype": "text/x-python",
   "name": "python",
   "nbconvert_exporter": "python",
   "pygments_lexer": "ipython3",
   "version": "3.7.7"
  }
 },
 "nbformat": 4,
 "nbformat_minor": 4
}
